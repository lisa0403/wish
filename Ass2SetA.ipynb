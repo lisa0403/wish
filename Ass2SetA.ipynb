{
  "nbformat": 4,
  "nbformat_minor": 0,
  "metadata": {
    "colab": {
      "provenance": [],
      "include_colab_link": true
    },
    "kernelspec": {
      "name": "python3",
      "display_name": "Python 3"
    },
    "language_info": {
      "name": "python"
    }
  },
  "cells": [
    {
      "cell_type": "markdown",
      "metadata": {
        "id": "view-in-github",
        "colab_type": "text"
      },
      "source": [
        "<a href=\"https://colab.research.google.com/github/lisa0403/wish/blob/main/Ass2SetA.ipynb\" target=\"_parent\"><img src=\"https://colab.research.google.com/assets/colab-badge.svg\" alt=\"Open In Colab\"/></a>"
      ]
    },
    {
      "cell_type": "code",
      "execution_count": null,
      "metadata": {
        "id": "WXyzby_dk2nf",
        "colab": {
          "base_uri": "https://localhost:8080/"
        },
        "outputId": "78badde9-2521-4fdf-d53e-6514217462fe"
      },
      "outputs": [
        {
          "output_type": "stream",
          "name": "stdout",
          "text": [
            "Original flattened array :\n",
            " [[0 1]\n",
            " [2 3]]\n"
          ]
        }
      ],
      "source": [
        "#Que 1\n",
        "import numpy as np\n",
        "\n",
        "arr=np.array([[0,1],[2,3]])\n",
        "\n",
        "print(\"Original flattened array :\\n\",arr)\n"
      ]
    },
    {
      "cell_type": "code",
      "source": [
        "print(\"Maximum value of above flattened array:\",np.max(arr))\n",
        "print(\"Minimum value of above flattened array:\",np.min(arr))"
      ],
      "metadata": {
        "id": "0MYpql2mliCX",
        "colab": {
          "base_uri": "https://localhost:8080/"
        },
        "outputId": "6a8e4c67-300c-4c7f-ce08-3caa0b3096f0"
      },
      "execution_count": null,
      "outputs": [
        {
          "output_type": "stream",
          "name": "stdout",
          "text": [
            "Maximum value of above flattened array: 3\n",
            "Minimum value of above flattened array: 0\n"
          ]
        }
      ]
    },
    {
      "cell_type": "code",
      "source": [
        "#que 2\n",
        "from numpy import linalg as lin\n",
        "arr1=np.array((9,16,20,25))\n",
        "arr1=arr1.reshape(2,2)\n",
        "print(lin.norm(arr1))"
      ],
      "metadata": {
        "colab": {
          "base_uri": "https://localhost:8080/"
        },
        "id": "CyV1hBnrnIhJ",
        "outputId": "6a594448-b250-431c-8d10-eb49ce241a74"
      },
      "execution_count": null,
      "outputs": [
        {
          "output_type": "stream",
          "name": "stdout",
          "text": [
            "36.90528417449187\n"
          ]
        }
      ]
    },
    {
      "cell_type": "code",
      "source": [
        "#que 3\n",
        "\n",
        "import pandas as pd\n",
        "import scipy.stats as s\n",
        "\n",
        "score={'Virat':[1,2,3,44,5,6,6,74],\"mahima\":[2,3,45,4,53,3,4,8]}\n",
        "df=pd.DataFrame(score)\n",
        "\n",
        "\n",
        "print(s.tmean(df[\"Virat\"].round(2)))\n",
        "\n",
        "print(s.tmean(df[\"mahima\"].round(2)))"
      ],
      "metadata": {
        "colab": {
          "base_uri": "https://localhost:8080/"
        },
        "id": "lPBmrVZ0pcXF",
        "outputId": "c127b716-9452-408a-cfd0-3de2f08b37e3"
      },
      "execution_count": null,
      "outputs": [
        {
          "output_type": "stream",
          "name": "stdout",
          "text": [
            "17.625\n",
            "15.25\n"
          ]
        }
      ]
    },
    {
      "cell_type": "code",
      "source": [
        "#que 4\n",
        "\n",
        "from scipy.spatial import distance\n",
        "p1=np.array([[12,10],[10,22]])\n",
        "p2=np.array([[12,11],[11,22]])\n",
        "dist=distance.cdist(p1,p2,'cityblock')\n",
        "print(\"mahatthan distance is=\",dist)"
      ],
      "metadata": {
        "colab": {
          "base_uri": "https://localhost:8080/"
        },
        "id": "MmnAiTNftuFw",
        "outputId": "ba600b58-d89d-4f0b-84dd-ae254d9d226d"
      },
      "execution_count": null,
      "outputs": [
        {
          "output_type": "stream",
          "name": "stdout",
          "text": [
            "mahatthan distance is= [[ 1. 13.]\n",
            " [13.  1.]]\n"
          ]
        }
      ]
    },
    {
      "cell_type": "code",
      "source": [
        "import matplotlib.pyplot as plt\n",
        "\n",
        "nums = [0.5, 0.5, 1, 1.2, 1.3, 2.1]\n",
        "bins = [0, 1, 2, 3]\n",
        "\n",
        "plt.hist(nums, bins=bins, edgecolor='black')\n",
        "plt.xlabel('Bins')\n",
        "plt.ylabel('Frequency')\n",
        "plt.title('Histogram')\n",
        "plt.show()"
      ],
      "metadata": {
        "colab": {
          "base_uri": "https://localhost:8080/",
          "height": 472
        },
        "id": "VU5Od4nGwf6e",
        "outputId": "8a200dc0-dfdb-4882-a948-ba333cf49c8c"
      },
      "execution_count": null,
      "outputs": [
        {
          "output_type": "display_data",
          "data": {
            "text/plain": [
              "<Figure size 640x480 with 1 Axes>"
            ],
            "image/png": "[encoded data removed]"
          },
          "metadata": {}
        }
      ]
    },
    {
      "cell_type": "code",
      "source": [
        "#que 6\n",
        "\n",
        "import pandas as pd\n",
        "import numpy as np\n",
        "\n",
        "student= {\n",
        "    'Name': ['Amisha', 'Babita', 'mohini', 'dravid', 'isha'],\n",
        "    'GraduationPercentage': [85.5, 76.2, 91.0, 68.8, 95.3],\n",
        "    'Age': [22, 23, 21, 24, 22]\n",
        "}\n",
        "\n",
        "df = pd.DataFrame(student)\n",
        "\n",
        "average_age = df['Age'].mean()\n",
        "average_percentage = df['GraduationPercentage'].mean()\n",
        "print(\"Average Age:\",average_age.round(2))\n",
        "print(\"Average Graduation Percentage:\",average_percentage.round(2))\n",
        "print(\"\\nBasic Statistics:\")\n",
        "print(df.describe())"
      ],
      "metadata": {
        "colab": {
          "base_uri": "https://localhost:8080/"
        },
        "id": "u60Ufq5IxYiq",
        "outputId": "f9f2a417-e4fa-4337-97b4-81b5c6d1192b"
      },
      "execution_count": null,
      "outputs": [
        {
          "output_type": "stream",
          "name": "stdout",
          "text": [
            "Average Age: 22.4\n",
            "Average Graduation Percentage: 83.36\n",
            "\n",
            "Basic Statistics:\n",
            "       GraduationPercentage        Age\n",
            "count              5.000000   5.000000\n",
            "mean              83.360000  22.400000\n",
            "std               10.825572   1.140175\n",
            "min               68.800000  21.000000\n",
            "25%               76.200000  22.000000\n",
            "50%               85.500000  22.000000\n",
            "75%               91.000000  23.000000\n",
            "max               95.300000  24.000000\n"
          ]
        }
      ]
    },
    {
      "cell_type": "code",
      "source": [],
      "metadata": {
        "id": "5_J3H98m0Up4"
      },
      "execution_count": null,
      "outputs": []
    }
  ]
}